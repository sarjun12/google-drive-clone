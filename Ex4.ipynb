{
 "cells": [
  {
   "cell_type": "code",
   "execution_count": 14,
   "id": "1b6af6a2",
   "metadata": {},
   "outputs": [
    {
     "name": "stdout",
     "output_type": "stream",
     "text": [
      "Index(['Age', 'Income', 'TargetVariable', 'Gender_Male'], dtype='object')\n",
      "Confusion Matrix:\n",
      " [[0 0]\n",
      " [1 3]]\n",
      "Accuracy: 0.75\n",
      "Precision: 1.00\n",
      "Recall: 0.75\n",
      "F1 Score: 0.86\n"
     ]
    }
   ],
   "source": [
    "import pandas as pd\n",
    "from sklearn.model_selection import train_test_split\n",
    "from sklearn.tree import DecisionTreeClassifier\n",
    "from sklearn.metrics import confusion_matrix, accuracy_score, precision_score, recall_score, f1_score\n",
    "\n",
    "# Load dataset\n",
    "data = pd.read_csv('Ex4.csv')\n",
    "\n",
    "# Data preprocessing\n",
    "# One-Hot Encoding for categorical variable 'Gender'\n",
    "data = pd.get_dummies(data, columns=['Gender'], drop_first=True)\n",
    "\n",
    "# Verify columns after one-hot encoding\n",
    "print(data.columns)\n",
    "\n",
    "# Splitting the dataset into the Training set and Test set\n",
    "X = data.drop('TargetVariable', axis=1)  # Adjust to your actual target variable name\n",
    "y = data['TargetVariable']\n",
    "\n",
    "X_train, X_test, y_train, y_test = train_test_split(X, y, test_size=0.25, random_state=0)\n",
    "\n",
    "# Building the Decision Tree model\n",
    "classifier = DecisionTreeClassifier(random_state=0)\n",
    "classifier.fit(X_train, y_train)\n",
    "\n",
    "# Making predictions\n",
    "y_pred = classifier.predict(X_test)\n",
    "\n",
    "# Performance evaluation\n",
    "cm = confusion_matrix(y_test, y_pred)\n",
    "accuracy = accuracy_score(y_test, y_pred)\n",
    "precision = precision_score(y_test, y_pred)\n",
    "recall = recall_score(y_test, y_pred)\n",
    "f1 = f1_score(y_test, y_pred)\n",
    "\n",
    "# Outputting results\n",
    "print(\"Confusion Matrix:\\n\", cm)\n",
    "print(f\"Accuracy: {accuracy:.2f}\")\n",
    "print(f\"Precision: {precision:.2f}\")\n",
    "print(f\"Recall: {recall:.2f}\")\n",
    "print(f\"F1 Score: {f1:.2f}\")\n"
   ]
  },
  {
   "cell_type": "code",
   "execution_count": null,
   "id": "26a624b7",
   "metadata": {},
   "outputs": [],
   "source": []
  }
 ],
 "metadata": {
  "kernelspec": {
   "display_name": "Python 3 (ipykernel)",
   "language": "python",
   "name": "python3"
  },
  "language_info": {
   "codemirror_mode": {
    "name": "ipython",
    "version": 3
   },
   "file_extension": ".py",
   "mimetype": "text/x-python",
   "name": "python",
   "nbconvert_exporter": "python",
   "pygments_lexer": "ipython3",
   "version": "3.11.5"
  }
 },
 "nbformat": 4,
 "nbformat_minor": 5
}
