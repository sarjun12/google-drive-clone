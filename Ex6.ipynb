{
 "cells": [
  {
   "cell_type": "code",
   "execution_count": 8,
   "id": "ea0e6019",
   "metadata": {},
   "outputs": [
    {
     "name": "stdout",
     "output_type": "stream",
     "text": [
      "   Feature1  Feature2\n",
      "0       2.3       3.4\n",
      "1       1.5       1.8\n",
      "2       7.6       6.5\n",
      "3       2.1       4.2\n",
      "4       8.0       7.0\n"
     ]
    },
    {
     "name": "stderr",
     "output_type": "stream",
     "text": [
      "C:\\Users\\ADMIN\\anaconda3\\Lib\\site-packages\\sklearn\\cluster\\_kmeans.py:1412: FutureWarning: The default value of `n_init` will change from 10 to 'auto' in 1.4. Set the value of `n_init` explicitly to suppress the warning\n",
      "  super()._check_params_vs_input(X, default_n_init=10)\n",
      "C:\\Users\\ADMIN\\anaconda3\\Lib\\site-packages\\sklearn\\cluster\\_kmeans.py:1436: UserWarning: KMeans is known to have a memory leak on Windows with MKL, when there are less chunks than available threads. You can avoid it by setting the environment variable OMP_NUM_THREADS=1.\n",
      "  warnings.warn(\n"
     ]
    },
    {
     "name": "stdout",
     "output_type": "stream",
     "text": [
      "   Feature1  Feature2  Cluster\n",
      "0       2.3       3.4        0\n",
      "1       1.5       1.8        0\n",
      "2       7.6       6.5        1\n",
      "3       2.1       4.2        0\n",
      "4       8.0       7.0        1\n"
     ]
    },
    {
     "data": {
      "image/png": "[encoded data removed]",
      "text/plain": [
       "<Figure size 1000x800 with 1 Axes>"
      ]
     },
     "metadata": {},
     "output_type": "display_data"
    }
   ],
   "source": [
    "import pandas as pd\n",
    "import numpy as np\n",
    "from sklearn.cluster import KMeans\n",
    "import matplotlib.pyplot as plt\n",
    "\n",
    "\n",
    "# Step 2: Load the Data\n",
    "df = pd.read_csv('Ex6.csv')\n",
    "\n",
    "# Display the first few rows of the dataset\n",
    "print(df.head())\n",
    "\n",
    "# Step 3: Data Preprocessing (if necessary)\n",
    "# No preprocessing needed in this simple example\n",
    "\n",
    "# Step 4: Determine the Number of Clusters (K)\n",
    "# Skipping this step since we're assuming K=3 for simplicity\n",
    "\n",
    "# Step 5: Apply K-Means Clustering\n",
    "kmeans = KMeans(n_clusters=2, random_state=0)  # Assuming optimal K is 2\n",
    "kmeans.fit(df)\n",
    "\n",
    "# Add cluster labels to the original DataFrame\n",
    "df['Cluster'] = kmeans.labels_\n",
    "\n",
    "# Display the first few rows with cluster labels\n",
    "print(df.head())\n",
    "\n",
    "# Step 6: Visualize the Clusters\n",
    "# Example of 2D visualization (for demonstration)\n",
    "plt.figure(figsize=(10, 8))\n",
    "plt.scatter(df['Feature1'], df['Feature2'], c=df['Cluster'], cmap='viridis', s=50)\n",
    "plt.title('K-Means Clustering')\n",
    "plt.xlabel('Feature 1')\n",
    "plt.ylabel('Feature 2')\n",
    "plt.show()\n"
   ]
  },
  {
   "cell_type": "code",
   "execution_count": 9,
   "id": "388c687a",
   "metadata": {},
   "outputs": [],
   "source": [
    "import pandas as pd\n",
    "import numpy as np\n",
    "from sklearn.cluster import KMeans\n",
    "import matplotlib.pyplot as plt"
   ]
  },
  {
   "cell_type": "code",
   "execution_count": 10,
   "id": "d22d01bc",
   "metadata": {},
   "outputs": [
    {
     "ename": "NameError",
     "evalue": "name 'os' is not defined",
     "output_type": "error",
     "traceback": [
      "\u001b[1;31m---------------------------------------------------------------------------\u001b[0m",
      "\u001b[1;31mNameError\u001b[0m                                 Traceback (most recent call last)",
      "Cell \u001b[1;32mIn[10], line 1\u001b[0m\n\u001b[1;32m----> 1\u001b[0m os\u001b[38;5;241m.\u001b[39menviron[\u001b[38;5;124m\"\u001b[39m\u001b[38;5;124mDEBUSSY\u001b[39m\u001b[38;5;124m\"\u001b[39m] \u001b[38;5;241m=\u001b[39m \u001b[38;5;124m\"\u001b[39m\u001b[38;5;124m1\u001b[39m\u001b[38;5;124m\"\u001b[39m\n",
      "\u001b[1;31mNameError\u001b[0m: name 'os' is not defined"
     ]
    }
   ],
   "source": [
    "os.environ[\"DEBUSSY\"] = \"1\""
   ]
  },
  {
   "cell_type": "code",
   "execution_count": 12,
   "id": "a3fe1afc",
   "metadata": {},
   "outputs": [],
   "source": [
    "df = pd.read_csv('Ex6.csv')"
   ]
  },
  {
   "cell_type": "code",
   "execution_count": 16,
   "id": "db78e03c",
   "metadata": {},
   "outputs": [
    {
     "ename": "SyntaxError",
     "evalue": "invalid syntax (1324837959.py, line 1)",
     "output_type": "error",
     "traceback": [
      "\u001b[1;36m  Cell \u001b[1;32mIn[16], line 1\u001b[1;36m\u001b[0m\n\u001b[1;33m    set OMP_NUM_THREADS=1\u001b[0m\n\u001b[1;37m        ^\u001b[0m\n\u001b[1;31mSyntaxError\u001b[0m\u001b[1;31m:\u001b[0m invalid syntax\n"
     ]
    }
   ],
   "source": [
    "\n",
    "\n",
    "\n",
    "# Now proceed with your existing code\n",
    "# ...\n",
    "import pandas as pd\n",
    "import numpy as np\n",
    "from sklearn.cluster import KMeans\n",
    "import matplotlib.pyplot as plt\n",
    "\n",
    "# Step 2: Load the Data\n",
    "df = pd.read_csv('Ex6.csv')\n",
    "\n",
    "# Display the first few rows of the dataset\n",
    "print(df.head())\n",
    "\n",
    "# Step 3: Data Preprocessing (if necessary)\n",
    "# No preprocessing needed in this simple example\n",
    "\n",
    "# Step 4: Determine the Number of Clusters (K)\n",
    "# Skipping this step since we're assuming K=2 for simplicity\n",
    "\n",
    "# Step 5: Apply K-Means Clustering\n",
    "kmeans = KMeans(n_clusters=2, random_state=0, n_init=10)  # Set n_init explicitly\n",
    "kmeans.fit(df)\n",
    "\n",
    "# Add cluster labels to the original DataFrame\n",
    "df['Cluster'] = kmeans.labels_\n",
    "\n",
    "# Display the first few rows with cluster labels\n",
    "print(df.head())\n",
    "\n",
    "# Step 6: Visualize the Clusters\n",
    "# Example of 2D visualization (for demonstration)\n",
    "plt.figure(figsize=(10, 8))\n",
    "plt.scatter(df['Feature1'], df['Feature2'], c=df['Cluster'], cmap='viridis', s=50)\n",
    "plt.title('K-Means Clustering')\n",
    "plt.xlabel('Feature 1')\n",
    "plt.ylabel('Feature 2')\n",
    "plt.show()\n"
   ]
  },
  {
   "cell_type": "code",
   "execution_count": 19,
   "id": "b5263e19",
   "metadata": {},
   "outputs": [
    {
     "ename": "TypeError",
     "evalue": "str expected, not int",
     "output_type": "error",
     "traceback": [
      "\u001b[1;31m---------------------------------------------------------------------------\u001b[0m",
      "\u001b[1;31mTypeError\u001b[0m                                 Traceback (most recent call last)",
      "Cell \u001b[1;32mIn[19], line 8\u001b[0m\n\u001b[0;32m      5\u001b[0m \u001b[38;5;28;01mimport\u001b[39;00m \u001b[38;5;21;01mos\u001b[39;00m\n\u001b[0;32m      7\u001b[0m \u001b[38;5;66;03m# Set environment variable to avoid memory leak warning on Windows with MKL\u001b[39;00m\n\u001b[1;32m----> 8\u001b[0m os\u001b[38;5;241m.\u001b[39menviron[\u001b[38;5;124m'\u001b[39m\u001b[38;5;124mOMP_NUM_THREADS\u001b[39m\u001b[38;5;124m'\u001b[39m] \u001b[38;5;241m=\u001b[39m \u001b[38;5;241m1\u001b[39m\n\u001b[0;32m     10\u001b[0m \u001b[38;5;66;03m# Step 2: Load the Data\u001b[39;00m\n\u001b[0;32m     11\u001b[0m df \u001b[38;5;241m=\u001b[39m pd\u001b[38;5;241m.\u001b[39mread_csv(\u001b[38;5;124m'\u001b[39m\u001b[38;5;124mEx6.csv\u001b[39m\u001b[38;5;124m'\u001b[39m)\n",
      "File \u001b[1;32m<frozen os>:684\u001b[0m, in \u001b[0;36m__setitem__\u001b[1;34m(self, key, value)\u001b[0m\n",
      "File \u001b[1;32m<frozen os>:744\u001b[0m, in \u001b[0;36mcheck_str\u001b[1;34m(value)\u001b[0m\n",
      "\u001b[1;31mTypeError\u001b[0m: str expected, not int"
     ]
    }
   ],
   "source": [
    "import pandas as pd\n",
    "import numpy as np\n",
    "from sklearn.cluster import KMeans\n",
    "import matplotlib.pyplot as plt\n",
    "import os\n",
    "\n",
    "# Set environment variable to avoid memory leak warning on Windows with MKL\n",
    "os.environ['OMP_NUM_THREADS'] = 1\n",
    "\n",
    "# Step 2: Load the Data\n",
    "df = pd.read_csv('Ex6.csv')\n",
    "\n",
    "# Display the first few rows of the dataset\n",
    "print(df.head())\n",
    "\n",
    "# Step 3: Data Preprocessing (if necessary)\n",
    "# No preprocessing needed in this simple example\n",
    "\n",
    "# Step 4: Determine the Number of Clusters (K)\n",
    "# Skipping this step since we're assuming K=2 for simplicity\n",
    "\n",
    "# Step 5: Apply K-Means Clustering\n",
    "kmeans = KMeans(n_clusters=2, random_state=0, n_init=10)  # Set n_init explicitly\n",
    "kmeans.fit(df)\n",
    "\n",
    "# Add cluster labels to the original DataFrame\n",
    "df['Cluster'] = kmeans.labels_\n",
    "\n",
    "# Display the first few rows with cluster labels\n",
    "print(df.head())\n",
    "\n",
    "# Step 6: Visualize the Clusters\n",
    "# Example of 2D visualization (for demonstration)\n",
    "plt.figure(figsize=(10, 8))\n",
    "plt.scatter(df['Feature1'], df['Feature2'], c=df['Cluster'], cmap='viridis', s=50)\n",
    "plt.title('K-Means Clustering')\n",
    "plt.xlabel('Feature 1')\n",
    "plt.ylabel('Feature 2')\n",
    "plt.show()"
   ]
  },
  {
   "cell_type": "code",
   "execution_count": null,
   "id": "5e17159e",
   "metadata": {},
   "outputs": [],
   "source": []
  }
 ],
 "metadata": {
  "kernelspec": {
   "display_name": "Python 3 (ipykernel)",
   "language": "python",
   "name": "python3"
  },
  "language_info": {
   "codemirror_mode": {
    "name": "ipython",
    "version": 3
   },
   "file_extension": ".py",
   "mimetype": "text/x-python",
   "name": "python",
   "nbconvert_exporter": "python",
   "pygments_lexer": "ipython3",
   "version": "3.11.5"
  }
 },
 "nbformat": 4,
 "nbformat_minor": 5
}
